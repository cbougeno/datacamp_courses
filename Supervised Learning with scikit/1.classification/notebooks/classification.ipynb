{
 "cells": [
  {
   "cell_type": "code",
   "execution_count": 60,
   "metadata": {
    "pycharm": {
     "is_executing": false
    }
   },
   "outputs": [],
   "source": [
    "import pandas as pd\n",
    "\n",
    "#%Lectura de fichero CSV sin header especificandolos por parámetro.%\n",
    "df = pd.read_csv('../data/house-votes-84.data', \n",
    "                 header=None,\n",
    "                 names=[\"party\",\"infants\",\"water\",\"budget\",\"physician\",\"salvador\",\"religious\",\"satellite\",\"aid\",\"missile\",\"immigration\",\"synfuels\",\"education\",\"superfund\",\"crime\",\"duty_free_exports\",\"eaa_rsa\"])"
   ]
  },
  {
   "cell_type": "code",
   "execution_count": 61,
   "metadata": {
    "pycharm": {
     "is_executing": false
    }
   },
   "outputs": [],
   "source": [
    "# y = df[\"party\"]\n",
    "# X = df.iloc[:, 1:]"
   ]
  },
  {
   "cell_type": "code",
   "execution_count": 62,
   "outputs": [
    {
     "data": {
      "text/plain": "        party  infants  water  budget  physician  salvador  religious  \\\n0  republican        0      1       0          1         1          1   \n1  republican        0      1       0          1         1          1   \n2    democrat        0      1       1          0         1          1   \n3    democrat        0      1       1          0         0          1   \n4    democrat        1      1       1          0         1          1   \n\n   satellite  aid  missile  immigration  synfuels  education  superfund  \\\n0          0    0        0            1         0          1          1   \n1          0    0        0            0         0          1          1   \n2          0    0        0            0         1          0          1   \n3          0    0        0            0         1          0          1   \n4          0    0        0            0         1          0          1   \n\n   crime  duty_free_exports  eaa_rsa  \n0      1                  0        1  \n1      1                  0        0  \n2      1                  0        0  \n3      0                  0        1  \n4      1                  1        1  ",
      "text/html": "<div>\n<style scoped>\n    .dataframe tbody tr th:only-of-type {\n        vertical-align: middle;\n    }\n\n    .dataframe tbody tr th {\n        vertical-align: top;\n    }\n\n    .dataframe thead th {\n        text-align: right;\n    }\n</style>\n<table border=\"1\" class=\"dataframe\">\n  <thead>\n    <tr style=\"text-align: right;\">\n      <th></th>\n      <th>party</th>\n      <th>infants</th>\n      <th>water</th>\n      <th>budget</th>\n      <th>physician</th>\n      <th>salvador</th>\n      <th>religious</th>\n      <th>satellite</th>\n      <th>aid</th>\n      <th>missile</th>\n      <th>immigration</th>\n      <th>synfuels</th>\n      <th>education</th>\n      <th>superfund</th>\n      <th>crime</th>\n      <th>duty_free_exports</th>\n      <th>eaa_rsa</th>\n    </tr>\n  </thead>\n  <tbody>\n    <tr>\n      <td>0</td>\n      <td>republican</td>\n      <td>0</td>\n      <td>1</td>\n      <td>0</td>\n      <td>1</td>\n      <td>1</td>\n      <td>1</td>\n      <td>0</td>\n      <td>0</td>\n      <td>0</td>\n      <td>1</td>\n      <td>0</td>\n      <td>1</td>\n      <td>1</td>\n      <td>1</td>\n      <td>0</td>\n      <td>1</td>\n    </tr>\n    <tr>\n      <td>1</td>\n      <td>republican</td>\n      <td>0</td>\n      <td>1</td>\n      <td>0</td>\n      <td>1</td>\n      <td>1</td>\n      <td>1</td>\n      <td>0</td>\n      <td>0</td>\n      <td>0</td>\n      <td>0</td>\n      <td>0</td>\n      <td>1</td>\n      <td>1</td>\n      <td>1</td>\n      <td>0</td>\n      <td>0</td>\n    </tr>\n    <tr>\n      <td>2</td>\n      <td>democrat</td>\n      <td>0</td>\n      <td>1</td>\n      <td>1</td>\n      <td>0</td>\n      <td>1</td>\n      <td>1</td>\n      <td>0</td>\n      <td>0</td>\n      <td>0</td>\n      <td>0</td>\n      <td>1</td>\n      <td>0</td>\n      <td>1</td>\n      <td>1</td>\n      <td>0</td>\n      <td>0</td>\n    </tr>\n    <tr>\n      <td>3</td>\n      <td>democrat</td>\n      <td>0</td>\n      <td>1</td>\n      <td>1</td>\n      <td>0</td>\n      <td>0</td>\n      <td>1</td>\n      <td>0</td>\n      <td>0</td>\n      <td>0</td>\n      <td>0</td>\n      <td>1</td>\n      <td>0</td>\n      <td>1</td>\n      <td>0</td>\n      <td>0</td>\n      <td>1</td>\n    </tr>\n    <tr>\n      <td>4</td>\n      <td>democrat</td>\n      <td>1</td>\n      <td>1</td>\n      <td>1</td>\n      <td>0</td>\n      <td>1</td>\n      <td>1</td>\n      <td>0</td>\n      <td>0</td>\n      <td>0</td>\n      <td>0</td>\n      <td>1</td>\n      <td>0</td>\n      <td>1</td>\n      <td>1</td>\n      <td>1</td>\n      <td>1</td>\n    </tr>\n  </tbody>\n</table>\n</div>"
     },
     "metadata": {},
     "output_type": "execute_result",
     "execution_count": 62
    }
   ],
   "source": [
    "df.head()"
   ],
   "metadata": {
    "collapsed": false,
    "pycharm": {
     "name": "#%%\n",
     "is_executing": false
    }
   }
  },
  {
   "cell_type": "code",
   "execution_count": 63,
   "outputs": [
    {
     "name": "stdout",
     "text": [
      "<class 'pandas.core.frame.DataFrame'>\nRangeIndex: 435 entries, 0 to 434\nData columns (total 17 columns):\nparty                435 non-null object\ninfants              435 non-null int64\nwater                435 non-null int64\nbudget               435 non-null int64\nphysician            435 non-null int64\nsalvador             435 non-null int64\nreligious            435 non-null int64\nsatellite            435 non-null int64\naid                  435 non-null int64\nmissile              435 non-null int64\nimmigration          435 non-null int64\nsynfuels             435 non-null int64\neducation            435 non-null int64\nsuperfund            435 non-null int64\ncrime                435 non-null int64\nduty_free_exports    435 non-null int64\neaa_rsa              435 non-null int64\ndtypes: int64(16), object(1)\nmemory usage: 57.9+ KB\n"
     ],
     "output_type": "stream"
    }
   ],
   "source": [
    "df.info()"
   ],
   "metadata": {
    "collapsed": false,
    "pycharm": {
     "name": "#%%\n",
     "is_executing": false
    }
   }
  },
  {
   "cell_type": "code",
   "execution_count": 64,
   "outputs": [
    {
     "data": {
      "text/plain": "          infants       water      budget   physician    salvador   religious  \\\ncount  435.000000  435.000000  435.000000  435.000000  435.000000  435.000000   \nmean     0.429885    0.448276    0.581609    0.406897    0.487356    0.625287   \nstd      0.495630    0.497890    0.493863    0.491821    0.500416    0.484606   \nmin      0.000000    0.000000    0.000000    0.000000    0.000000    0.000000   \n25%      0.000000    0.000000    0.000000    0.000000    0.000000    0.000000   \n50%      0.000000    0.000000    1.000000    0.000000    0.000000    1.000000   \n75%      1.000000    1.000000    1.000000    1.000000    1.000000    1.000000   \nmax      1.000000    1.000000    1.000000    1.000000    1.000000    1.000000   \n\n        satellite         aid     missile  immigration    synfuels  \\\ncount  435.000000  435.000000  435.000000   435.000000  435.000000   \nmean     0.549425    0.556322    0.475862     0.496552    0.344828   \nstd      0.498124    0.497390    0.499992     0.500564    0.475859   \nmin      0.000000    0.000000    0.000000     0.000000    0.000000   \n25%      0.000000    0.000000    0.000000     0.000000    0.000000   \n50%      1.000000    1.000000    0.000000     0.000000    0.000000   \n75%      1.000000    1.000000    1.000000     1.000000    1.000000   \nmax      1.000000    1.000000    1.000000     1.000000    1.000000   \n\n        education   superfund       crime  duty_free_exports     eaa_rsa  \ncount  435.000000  435.000000  435.000000         435.000000  435.000000  \nmean     0.393103    0.480460    0.570115           0.400000    0.618391  \nstd      0.489002    0.500193    0.495630           0.490462    0.486341  \nmin      0.000000    0.000000    0.000000           0.000000    0.000000  \n25%      0.000000    0.000000    0.000000           0.000000    0.000000  \n50%      0.000000    0.000000    1.000000           0.000000    1.000000  \n75%      1.000000    1.000000    1.000000           1.000000    1.000000  \nmax      1.000000    1.000000    1.000000           1.000000    1.000000  ",
      "text/html": "<div>\n<style scoped>\n    .dataframe tbody tr th:only-of-type {\n        vertical-align: middle;\n    }\n\n    .dataframe tbody tr th {\n        vertical-align: top;\n    }\n\n    .dataframe thead th {\n        text-align: right;\n    }\n</style>\n<table border=\"1\" class=\"dataframe\">\n  <thead>\n    <tr style=\"text-align: right;\">\n      <th></th>\n      <th>infants</th>\n      <th>water</th>\n      <th>budget</th>\n      <th>physician</th>\n      <th>salvador</th>\n      <th>religious</th>\n      <th>satellite</th>\n      <th>aid</th>\n      <th>missile</th>\n      <th>immigration</th>\n      <th>synfuels</th>\n      <th>education</th>\n      <th>superfund</th>\n      <th>crime</th>\n      <th>duty_free_exports</th>\n      <th>eaa_rsa</th>\n    </tr>\n  </thead>\n  <tbody>\n    <tr>\n      <td>count</td>\n      <td>435.000000</td>\n      <td>435.000000</td>\n      <td>435.000000</td>\n      <td>435.000000</td>\n      <td>435.000000</td>\n      <td>435.000000</td>\n      <td>435.000000</td>\n      <td>435.000000</td>\n      <td>435.000000</td>\n      <td>435.000000</td>\n      <td>435.000000</td>\n      <td>435.000000</td>\n      <td>435.000000</td>\n      <td>435.000000</td>\n      <td>435.000000</td>\n      <td>435.000000</td>\n    </tr>\n    <tr>\n      <td>mean</td>\n      <td>0.429885</td>\n      <td>0.448276</td>\n      <td>0.581609</td>\n      <td>0.406897</td>\n      <td>0.487356</td>\n      <td>0.625287</td>\n      <td>0.549425</td>\n      <td>0.556322</td>\n      <td>0.475862</td>\n      <td>0.496552</td>\n      <td>0.344828</td>\n      <td>0.393103</td>\n      <td>0.480460</td>\n      <td>0.570115</td>\n      <td>0.400000</td>\n      <td>0.618391</td>\n    </tr>\n    <tr>\n      <td>std</td>\n      <td>0.495630</td>\n      <td>0.497890</td>\n      <td>0.493863</td>\n      <td>0.491821</td>\n      <td>0.500416</td>\n      <td>0.484606</td>\n      <td>0.498124</td>\n      <td>0.497390</td>\n      <td>0.499992</td>\n      <td>0.500564</td>\n      <td>0.475859</td>\n      <td>0.489002</td>\n      <td>0.500193</td>\n      <td>0.495630</td>\n      <td>0.490462</td>\n      <td>0.486341</td>\n    </tr>\n    <tr>\n      <td>min</td>\n      <td>0.000000</td>\n      <td>0.000000</td>\n      <td>0.000000</td>\n      <td>0.000000</td>\n      <td>0.000000</td>\n      <td>0.000000</td>\n      <td>0.000000</td>\n      <td>0.000000</td>\n      <td>0.000000</td>\n      <td>0.000000</td>\n      <td>0.000000</td>\n      <td>0.000000</td>\n      <td>0.000000</td>\n      <td>0.000000</td>\n      <td>0.000000</td>\n      <td>0.000000</td>\n    </tr>\n    <tr>\n      <td>25%</td>\n      <td>0.000000</td>\n      <td>0.000000</td>\n      <td>0.000000</td>\n      <td>0.000000</td>\n      <td>0.000000</td>\n      <td>0.000000</td>\n      <td>0.000000</td>\n      <td>0.000000</td>\n      <td>0.000000</td>\n      <td>0.000000</td>\n      <td>0.000000</td>\n      <td>0.000000</td>\n      <td>0.000000</td>\n      <td>0.000000</td>\n      <td>0.000000</td>\n      <td>0.000000</td>\n    </tr>\n    <tr>\n      <td>50%</td>\n      <td>0.000000</td>\n      <td>0.000000</td>\n      <td>1.000000</td>\n      <td>0.000000</td>\n      <td>0.000000</td>\n      <td>1.000000</td>\n      <td>1.000000</td>\n      <td>1.000000</td>\n      <td>0.000000</td>\n      <td>0.000000</td>\n      <td>0.000000</td>\n      <td>0.000000</td>\n      <td>0.000000</td>\n      <td>1.000000</td>\n      <td>0.000000</td>\n      <td>1.000000</td>\n    </tr>\n    <tr>\n      <td>75%</td>\n      <td>1.000000</td>\n      <td>1.000000</td>\n      <td>1.000000</td>\n      <td>1.000000</td>\n      <td>1.000000</td>\n      <td>1.000000</td>\n      <td>1.000000</td>\n      <td>1.000000</td>\n      <td>1.000000</td>\n      <td>1.000000</td>\n      <td>1.000000</td>\n      <td>1.000000</td>\n      <td>1.000000</td>\n      <td>1.000000</td>\n      <td>1.000000</td>\n      <td>1.000000</td>\n    </tr>\n    <tr>\n      <td>max</td>\n      <td>1.000000</td>\n      <td>1.000000</td>\n      <td>1.000000</td>\n      <td>1.000000</td>\n      <td>1.000000</td>\n      <td>1.000000</td>\n      <td>1.000000</td>\n      <td>1.000000</td>\n      <td>1.000000</td>\n      <td>1.000000</td>\n      <td>1.000000</td>\n      <td>1.000000</td>\n      <td>1.000000</td>\n      <td>1.000000</td>\n      <td>1.000000</td>\n      <td>1.000000</td>\n    </tr>\n  </tbody>\n</table>\n</div>"
     },
     "metadata": {},
     "output_type": "execute_result",
     "execution_count": 64
    }
   ],
   "source": [
    "df.describe()"
   ],
   "metadata": {
    "collapsed": false,
    "pycharm": {
     "name": "#%%\n",
     "is_executing": false
    }
   }
  },
  {
   "cell_type": "code",
   "execution_count": 65,
   "outputs": [],
   "source": [
    "import matplotlib.pyplot as plt\n",
    "import seaborn as sns"
   ],
   "metadata": {
    "collapsed": false,
    "pycharm": {
     "name": "#%%\n",
     "is_executing": false
    }
   }
  },
  {
   "cell_type": "code",
   "execution_count": 66,
   "outputs": [
    {
     "data": {
      "text/plain": "<Figure size 432x288 with 1 Axes>",
      "image/png": "[encoded data removed]"
     },
     "metadata": {
      "needs_background": "light"
     },
     "output_type": "display_data"
    }
   ],
   "source": [
    "plt.figure()\n",
    "sns.countplot(x='education', hue='party', data=df, palette='RdBu')\n",
    "plt.xticks([0,1], ['No', 'Yes'])\n",
    "plt.show()"
   ],
   "metadata": {
    "collapsed": false,
    "pycharm": {
     "name": "#%%\n",
     "is_executing": false
    }
   }
  },
  {
   "cell_type": "code",
   "execution_count": 67,
   "outputs": [
    {
     "data": {
      "text/plain": "<Figure size 432x288 with 1 Axes>",
      "image/png": "[encoded data removed]"
     },
     "metadata": {
      "needs_background": "light"
     },
     "output_type": "display_data"
    }
   ],
   "source": [
    "plt.figure()\n",
    "sns.countplot(x='satellite', hue='party', data=df, palette='RdBu')\n",
    "plt.xticks([0,1], ['No', 'Yes'])\n",
    "plt.show()"
   ],
   "metadata": {
    "collapsed": false,
    "pycharm": {
     "name": "#%%\n",
     "is_executing": false
    }
   }
  },
  {
   "cell_type": "code",
   "execution_count": 68,
   "outputs": [
    {
     "data": {
      "text/plain": "<Figure size 432x288 with 1 Axes>",
      "image/png": "[encoded data removed]"
     },
     "metadata": {
      "needs_background": "light"
     },
     "output_type": "display_data"
    }
   ],
   "source": [
    "plt.figure()\n",
    "sns.countplot(x='missile', hue='party', data=df, palette='RdBu')\n",
    "plt.xticks([0,1], ['No', 'Yes'])\n",
    "plt.show()\n"
   ],
   "metadata": {
    "collapsed": false,
    "pycharm": {
     "name": "#%%\n",
     "is_executing": false
    }
   }
  },
  {
   "cell_type": "code",
   "execution_count": 69,
   "outputs": [
    {
     "data": {
      "text/plain": "KNeighborsClassifier(algorithm='auto', leaf_size=30, metric='minkowski',\n                     metric_params=None, n_jobs=None, n_neighbors=6, p=2,\n                     weights='uniform')"
     },
     "metadata": {},
     "output_type": "execute_result",
     "execution_count": 69
    }
   ],
   "source": [
    "# Import KNeighborsClassifier from sklearn.neighbors\n",
    "from sklearn.neighbors import KNeighborsClassifier\n",
    "\n",
    "# Create arrays for the features and the response variable\n",
    "y = df['party'].values\n",
    "\n",
    "X = df.drop('party', axis=1).values\n",
    "\n",
    "# Create a k-NN classifier with 6 neighbors\n",
    "knn = KNeighborsClassifier(n_neighbors=6)\n",
    "\n",
    "# Fit the classifier to the data\n",
    "knn.fit(X,y)"
   ],
   "metadata": {
    "collapsed": false,
    "pycharm": {
     "name": "#%% KNN with 6 neighbors: FIT\n",
     "is_executing": false
    }
   }
  },
  {
   "cell_type": "code",
   "execution_count": 70,
   "outputs": [
    {
     "name": "stdout",
     "text": [
      "Prediction: ['democrat']\n"
     ],
     "output_type": "stream"
    }
   ],
   "source": [
    "X_new = pd.DataFrame({'0': [0.696469],'1': [0.286139], '2': [0.226851], '3': [0.551315], '4': [0.719469], '5': [0.423106], '6': [0.980764], '7': [0.68483], '8': [0.480932], '9': [0.392118], '10': [0.343178], '11': [0.72905], '12': [0.438572], '13': [0.059678], '14': [0.398044], '15': [0.737995]})\n",
    "# Predict the labels for the training data X\n",
    "y_pred = knn.predict(X)\n",
    "\n",
    "# Predict and print the label for the new data point X_new\n",
    "new_prediction = knn.predict(X_new)\n",
    "print(\"Prediction: {}\".format(new_prediction))\n"
   ],
   "metadata": {
    "collapsed": false,
    "pycharm": {
     "name": "#%% PREDICT\n",
     "is_executing": false
    }
   }
  }
 ],
 "metadata": {
  "kernelspec": {
   "display_name": "Python 3",
   "language": "python",
   "name": "python3"
  },
  "language_info": {
   "codemirror_mode": {
    "name": "ipython",
    "version": 3
   },
   "file_extension": ".py",
   "mimetype": "text/x-python",
   "name": "python",
   "nbconvert_exporter": "python",
   "pygments_lexer": "ipython3",
   "version": "3.7.3"
  },
  "pycharm": {
   "stem_cell": {
    "cell_type": "raw",
    "source": [],
    "metadata": {
     "collapsed": false
    }
   }
  }
 },
 "nbformat": 4,
 "nbformat_minor": 2
}